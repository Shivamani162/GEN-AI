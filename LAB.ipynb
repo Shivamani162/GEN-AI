{
  "nbformat": 4,
  "nbformat_minor": 0,
  "metadata": {
    "colab": {
      "provenance": [],
      "authorship_tag": "ABX9TyOuX5UztGYMjgi0BY6Ar/mX",
      "include_colab_link": true
    },
    "kernelspec": {
      "name": "python3",
      "display_name": "Python 3"
    },
    "language_info": {
      "name": "python"
    }
  },
  "cells": [
    {
      "cell_type": "markdown",
      "metadata": {
        "id": "view-in-github",
        "colab_type": "text"
      },
      "source": [
        "<a href=\"https://colab.research.google.com/github/Shivamani162/GEN-AI/blob/main/LAB.ipynb\" target=\"_parent\"><img src=\"https://colab.research.google.com/assets/colab-badge.svg\" alt=\"Open In Colab\"/></a>"
      ]
    },
    {
      "cell_type": "code",
      "execution_count": 1,
      "metadata": {
        "colab": {
          "base_uri": "https://localhost:8080/"
        },
        "id": "rnsjyToNGowS",
        "outputId": "c536d29d-a78a-4bc1-9fb0-8e5117408be7"
      },
      "outputs": [
        {
          "output_type": "stream",
          "name": "stdout",
          "text": [
            "Optimal values of X and Y are: [0. 0.]\n",
            "Minimum value of the objective function is: 0.0\n"
          ]
        }
      ],
      "source": [
        "from scipy.optimize import linprog\n",
        "\n",
        "# Coefficients for the objective function (c = 2X + 3Y, so [2, 3])\n",
        "c = [2, 3]\n",
        "\n",
        "# Coefficients for the inequality constraint 50X + 80Y <= 500\n",
        "A = [[50, 80]]\n",
        "b = [500]\n",
        "\n",
        "# Bounds for X and Y (both variables must be >= 0)\n",
        "x_bounds = (0, None)  # X >= 0\n",
        "y_bounds = (0, None)  # Y >= 0\n",
        "\n",
        "# Solving the linear programming problem\n",
        "result = linprog(c, A_ub=A, b_ub=b, bounds=[x_bounds, y_bounds], method='highs')\n",
        "\n",
        "# Displaying the result\n",
        "if result.success:\n",
        "    print(\"Optimal values of X and Y are:\", result.x)\n",
        "    print(\"Minimum value of the objective function is:\", result.fun)\n",
        "else:\n",
        "    print(\"The linear programming problem could not be solved.\")\n"
      ]
    },
    {
      "cell_type": "code",
      "source": [
        "from scipy.optimize import linprog\n",
        "\n",
        "# Coefficients for the objective function (C = 5X + 3Y)\n",
        "c = [5, 3]\n",
        "\n",
        "# Coefficients for the inequality constraints\n",
        "# X + 2Y <= 14\n",
        "# -3X + Y <= 0 (converted from 3X - Y >= 0)\n",
        "# X - Y <= 2\n",
        "A_ub = [\n",
        "    [1, 2],      # X + 2Y <= 14\n",
        "    [-3, 1],     # -3X + Y <= 0\n",
        "    [1, -1]      # X - Y <= 2\n",
        "]\n",
        "b_ub = [14, 0, 2]\n",
        "\n",
        "# Bounds for X and Y (both variables must be >= 0)\n",
        "x_bounds = (0, None)  # X >= 0\n",
        "y_bounds = (0, None)  # Y >= 0\n",
        "\n",
        "# Solving the linear programming problem\n",
        "result = linprog(c, A_ub=A_ub, b_ub=b_ub, bounds=[x_bounds, y_bounds], method='highs')\n",
        "\n",
        "# Displaying the result\n",
        "if result.success:\n",
        "    print(\"Optimal values of X and Y are:\", result.x)\n",
        "    print(\"Minimum value of the objective function is:\", result.fun)\n",
        "else:\n",
        "    print(\"The linear programming problem could not be solved.\")\n"
      ],
      "metadata": {
        "colab": {
          "base_uri": "https://localhost:8080/"
        },
        "id": "YrdLB2-TGvdW",
        "outputId": "1912b5a7-568e-4b77-e763-6db0544088ec"
      },
      "execution_count": 2,
      "outputs": [
        {
          "output_type": "stream",
          "name": "stdout",
          "text": [
            "Optimal values of X and Y are: [0. 0.]\n",
            "Minimum value of the objective function is: 0.0\n"
          ]
        }
      ]
    },
    {
      "cell_type": "code",
      "source": [
        "from scipy.optimize import linprog\n",
        "\n",
        "# Coefficients for the objective function (C = 5X + 3Y, but we negate for minimization)\n",
        "c = [-5, -3]  # We negate the coefficients for maximization\n",
        "\n",
        "# Coefficients for the inequality constraints\n",
        "# X + 2Y <= 14\n",
        "# -3X + Y <= 0 (converted from 3X - Y >= 0)\n",
        "# X - Y <= 2\n",
        "A_ub = [\n",
        "    [1, 2],      # X + 2Y <= 14\n",
        "    [-3, 1],     # -3X + Y <= 0\n",
        "    [1, -1]      # X - Y <= 2\n",
        "]\n",
        "b_ub = [14, 0, 2]\n",
        "\n",
        "# Bounds for X and Y (both variables must be >= 0)\n",
        "x_bounds = (0, None)  # X >= 0\n",
        "y_bounds = (0, None)  # Y >= 0\n",
        "\n",
        "# Solving the linear programming problem\n",
        "result = linprog(c, A_ub=A_ub, b_ub=b_ub, bounds=[x_bounds, y_bounds], method='highs')\n",
        "\n",
        "# Displaying the result\n",
        "if result.success:\n",
        "    print(\"Optimal values of X and Y are:\", result.x)\n",
        "    print(\"Maximum value of the objective function is:\", -result.fun)  # Negate the result to get the maximum value\n",
        "else:\n",
        "    print(\"The linear programming problem could not be solved.\")\n"
      ],
      "metadata": {
        "colab": {
          "base_uri": "https://localhost:8080/"
        },
        "id": "kexv2LvZHEPl",
        "outputId": "d9c9093a-bb09-4054-cad7-3e92a83aead5"
      },
      "execution_count": 3,
      "outputs": [
        {
          "output_type": "stream",
          "name": "stdout",
          "text": [
            "Optimal values of X and Y are: [6. 4.]\n",
            "Maximum value of the objective function is: 42.0\n"
          ]
        }
      ]
    },
    {
      "cell_type": "code",
      "source": [
        "from scipy.optimize import linprog\n",
        "\n",
        "# Coefficients for the objective function (C = 25X + 20Y)\n",
        "c = [-25, -20]  # We negate because linprog minimizes the function by default\n",
        "\n",
        "# Coefficients for the inequality constraints\n",
        "# 20X + 12Y <= 1800 (plastic resin constraint)\n",
        "# X + Y <= 120 (production time constraint)\n",
        "A_ub = [\n",
        "    [20, 12],   # Coefficients for the plastic resin constraint\n",
        "    [1, 1]      # Coefficients for the production time constraint\n",
        "]\n",
        "b_ub = [1800, 120]  # Right-hand side of the inequalities\n",
        "\n",
        "# Bounds for X and Y (both variables must be >= 0)\n",
        "x_bounds = (0, None)  # X >= 0\n",
        "y_bounds = (0, None)  # Y >= 0\n",
        "\n",
        "# Solving the linear programming problem\n",
        "result = linprog(c, A_ub=A_ub, b_ub=b_ub, bounds=[x_bounds, y_bounds], method='highs')\n",
        "\n",
        "# Displaying the result\n",
        "if result.success:\n",
        "    print(\"Optimal number of cases of beer mugs (X):\", result.x[0])\n",
        "    print(\"Optimal number of cases of champagne glasses (Y):\", result.x[1])\n",
        "    print(\"Maximum profit:\", -result.fun)  # Negate the result to get the maximum profit\n",
        "else:\n",
        "    print(\"The linear programming problem could not be solved.\")\n"
      ],
      "metadata": {
        "colab": {
          "base_uri": "https://localhost:8080/"
        },
        "id": "xEqoKXu1HT0V",
        "outputId": "879a2ef5-9028-49eb-8833-8d078cf8425e"
      },
      "execution_count": 4,
      "outputs": [
        {
          "output_type": "stream",
          "name": "stdout",
          "text": [
            "Optimal number of cases of beer mugs (X): 45.0\n",
            "Optimal number of cases of champagne glasses (Y): 75.0\n",
            "Maximum profit: 2625.0\n"
          ]
        }
      ]
    },
    {
      "cell_type": "code",
      "source": [
        "# Define the function f(x) and its derivative f'(x)\n",
        "def f(x):\n",
        "    return 5 * x**4 + 3 * x**2 + 10\n",
        "\n",
        "def df(x):\n",
        "    return 20 * x**3 + 6 * x\n",
        "\n",
        "# Gradient Descent Parameters\n",
        "learning_rate = 0.001  # Step size\n",
        "iterations = 1000  # Number of iterations\n",
        "x = 0  # Initial guess for x\n",
        "\n",
        "# Gradient Descent Algorithm\n",
        "for i in range(iterations):\n",
        "    x = x - learning_rate * df(x)  # Update x using the gradient\n",
        "\n",
        "# Output the result\n",
        "print(f\"The value of x at minimum: {x}\")\n",
        "print(f\"The minimum value of f(x): {f(x)}\")\n"
      ],
      "metadata": {
        "colab": {
          "base_uri": "https://localhost:8080/"
        },
        "id": "vcCzgDLvHmVV",
        "outputId": "19158218-5791-4f85-c2b5-eb2b06efb045"
      },
      "execution_count": 5,
      "outputs": [
        {
          "output_type": "stream",
          "name": "stdout",
          "text": [
            "The value of x at minimum: 0.0\n",
            "The minimum value of f(x): 10.0\n"
          ]
        }
      ]
    },
    {
      "cell_type": "code",
      "source": [
        "import math\n",
        "\n",
        "# Define the function g(x, y)\n",
        "def g(x, y):\n",
        "    return 3 * x**2 + 5 * math.exp(-y) + 10\n",
        "\n",
        "# Define the partial derivatives of g(x, y)\n",
        "def dg_dx(x, y):\n",
        "    return 6 * x  # Partial derivative with respect to x\n",
        "\n",
        "def dg_dy(x, y):\n",
        "    return -5 * math.exp(-y)  # Partial derivative with respect to y\n",
        "\n",
        "# Gradient Descent Parameters\n",
        "learning_rate = 0.01  # Step size\n",
        "iterations = 1000  # Number of iterations\n",
        "x = 0  # Initial guess for x\n",
        "y = 0  # Initial guess for y\n",
        "\n",
        "# Gradient Descent Algorithm\n",
        "for i in range(iterations):\n",
        "    # Update x and y using the gradients\n",
        "    x = x - learning_rate * dg_dx(x, y)\n",
        "    y = y - learning_rate * dg_dy(x, y)\n",
        "\n",
        "# Output the result\n",
        "print(f\"The value of x at minimum: {x}\")\n",
        "print(f\"The value of y at minimum: {y}\")\n",
        "print(f\"The minimum value of g(x, y): {g(x, y)}\")\n"
      ],
      "metadata": {
        "colab": {
          "base_uri": "https://localhost:8080/"
        },
        "id": "HV1SfwYmH-CI",
        "outputId": "4ac858bd-23ba-4a43-9ccc-0f80e2ab8261"
      },
      "execution_count": 6,
      "outputs": [
        {
          "output_type": "stream",
          "name": "stdout",
          "text": [
            "The value of x at minimum: 0.0\n",
            "The value of y at minimum: 3.9337602416246904\n",
            "The minimum value of g(x, y): 10.097849731495023\n"
          ]
        }
      ]
    },
    {
      "cell_type": "code",
      "source": [
        "# Define the function f(x, y)\n",
        "def f(x, y):\n",
        "    return 5 * x**4 + 3 * y**2 + 10\n",
        "\n",
        "# Define the partial derivatives of f(x, y)\n",
        "def df_dx(x, y):\n",
        "    return 20 * x**3  # Partial derivative with respect to x\n",
        "\n",
        "def df_dy(x, y):\n",
        "    return 6 * y  # Partial derivative with respect to y\n",
        "\n",
        "# Gradient Descent Parameters\n",
        "learning_rate = 0.001  # Step size\n",
        "iterations = 1000  # Number of iterations\n",
        "x = 0  # Initial guess for x\n",
        "y = 0  # Initial guess for y\n",
        "\n",
        "# Gradient Descent Algorithm\n",
        "for i in range(iterations):\n",
        "    # Update x and y using the gradients\n",
        "    x = x - learning_rate * df_dx(x, y)\n",
        "    y = y - learning_rate * df_dy(x, y)\n",
        "\n",
        "# Output the result\n",
        "print(f\"The value of x at minimum: {x}\")\n",
        "print(f\"The value of y at minimum: {y}\")\n",
        "print(f\"The minimum value of f(x, y): {f(x, y)}\")\n"
      ],
      "metadata": {
        "colab": {
          "base_uri": "https://localhost:8080/"
        },
        "id": "7COEdhwOIIgM",
        "outputId": "aa0125d9-0e72-40f5-8977-1c551416385b"
      },
      "execution_count": 7,
      "outputs": [
        {
          "output_type": "stream",
          "name": "stdout",
          "text": [
            "The value of x at minimum: 0.0\n",
            "The value of y at minimum: 0.0\n",
            "The minimum value of f(x, y): 10.0\n"
          ]
        }
      ]
    },
    {
      "cell_type": "code",
      "source": [
        "# Define the function f(x, y)\n",
        "def f(x, y):\n",
        "    return 2 * x**3 + 4 * y**4 + 10 * y\n",
        "\n",
        "# Define the partial derivatives of f(x, y)\n",
        "def df_dx(x, y):\n",
        "    return 6 * x**2  # Partial derivative with respect to x\n",
        "\n",
        "def df_dy(x, y):\n",
        "    return 16 * y**3 + 10  # Partial derivative with respect to y\n",
        "\n",
        "# Gradient Descent Parameters\n",
        "learning_rate = 0.001  # Step size\n",
        "iterations = 1000  # Number of iterations\n",
        "x = 0  # Initial guess for x\n",
        "y = 0  # Initial guess for y\n",
        "\n",
        "# Gradient Descent Algorithm\n",
        "for i in range(iterations):\n",
        "    # Update x and y using the gradients\n",
        "    x = x - learning_rate * df_dx(x, y)\n",
        "    y = y - learning_rate * df_dy(x, y)\n",
        "\n",
        "# Output the result\n",
        "print(f\"The value of x at minimum: {x}\")\n",
        "print(f\"The value of y at minimum: {y}\")\n",
        "print(f\"The minimum value of f(x, y): {f(x, y)}\")\n"
      ],
      "metadata": {
        "colab": {
          "base_uri": "https://localhost:8080/"
        },
        "id": "z0kGoSDAIrh9",
        "outputId": "aed29b18-1df9-4389-a600-6f38c93644bc"
      },
      "execution_count": 9,
      "outputs": [
        {
          "output_type": "stream",
          "name": "stdout",
          "text": [
            "The value of x at minimum: 0.0\n",
            "The value of y at minimum: -0.854987973338347\n",
            "The minimum value of f(x, y): -6.412409800037614\n"
          ]
        }
      ]
    },
    {
      "cell_type": "code",
      "source": [
        "# Define the sigmoid function z(x)\n",
        "def z(x):\n",
        "    return 1 / (1 + (2.718281828459045 ** -x))  # Using e constant for the base of the exponential\n",
        "\n",
        "# Define the derivative of sigmoid function z(x)\n",
        "def dz_dx(x):\n",
        "    sigmoid = z(x)\n",
        "    return sigmoid * (1 - sigmoid)  # Derivative of sigmoid function\n",
        "\n",
        "# Gradient Descent Parameters\n",
        "learning_rate = 0.1  # Step size\n",
        "iterations = 1000  # Number of iterations\n",
        "x = 0  # Initial guess for x\n",
        "\n",
        "# Gradient Descent Algorithm\n",
        "for i in range(iterations):\n",
        "    x = x - learning_rate * dz_dx(x)  # Update x using the gradient\n",
        "\n",
        "# Output the result\n",
        "print(f\"The value of x at minimum: {x}\")\n",
        "print(f\"The minimum value of z(x): {z(x)}\")\n"
      ],
      "metadata": {
        "colab": {
          "base_uri": "https://localhost:8080/"
        },
        "id": "HGFQUS3hJIZR",
        "outputId": "fbdd32bf-4cb7-4b63-b893-5ae985ef355d"
      },
      "execution_count": 10,
      "outputs": [
        {
          "output_type": "stream",
          "name": "stdout",
          "text": [
            "The value of x at minimum: -4.512436490262131\n",
            "The minimum value of z(x): 0.010852623477864688\n"
          ]
        }
      ]
    },
    {
      "cell_type": "code",
      "source": [
        "# Define constants\n",
        "input_value = 2\n",
        "expected_output = 0.5\n",
        "best_m = None\n",
        "best_c = None\n",
        "min_error = float('inf')\n",
        "\n",
        "# Iterate over possible values of M and C\n",
        "for M in range(-100, 101):  # Testing values in a reasonable range\n",
        "    for C in range(-100, 101):\n",
        "        # Calculate predicted output\n",
        "        predicted_output = M * input_value + C\n",
        "\n",
        "        # Compute square error\n",
        "        error = (expected_output - predicted_output) ** 2\n",
        "\n",
        "        # Update best values if error is minimized\n",
        "        if error < min_error:\n",
        "            min_error = error\n",
        "            best_m = M\n",
        "            best_c = C\n",
        "\n",
        "# Print the optimal values of M and C\n",
        "print(f\"Optimal M: {best_m}, Optimal C: {best_c}, Minimum Square Error: {min_error}\")\n"
      ],
      "metadata": {
        "colab": {
          "base_uri": "https://localhost:8080/"
        },
        "id": "EV6v9MLXJaBp",
        "outputId": "37b95dd3-0889-42a9-a7ab-ef46750d6a5f"
      },
      "execution_count": 11,
      "outputs": [
        {
          "output_type": "stream",
          "name": "stdout",
          "text": [
            "Optimal M: -50, Optimal C: 100, Minimum Square Error: 0.25\n"
          ]
        }
      ]
    }
  ]
}